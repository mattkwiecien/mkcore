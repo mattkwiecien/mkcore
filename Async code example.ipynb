{
 "cells": [
  {
   "cell_type": "markdown",
   "id": "5e55ec9b",
   "metadata": {},
   "source": [
    "### Async code example with multiprocess.Pool"
   ]
  },
  {
   "cell_type": "markdown",
   "id": "7bd6c606",
   "metadata": {},
   "source": [
    "If you have a for loop where each iteration is independent of each other, you can add multiprocessing pretty easily.  In this example, I'm just mocking a heavy operation in each for loop by sleeping for 1 second."
   ]
  },
  {
   "cell_type": "code",
   "execution_count": 2,
   "id": "cfbc56d5",
   "metadata": {
    "scrolled": true
   },
   "outputs": [
    {
     "name": "stdout",
     "output_type": "stream",
     "text": [
      "Iteration 0 going to sleep.\n",
      "Iteration 0 waking up.\n",
      "Iteration 1 going to sleep.\n",
      "Iteration 1 waking up.\n",
      "Iteration 2 going to sleep.\n",
      "Iteration 2 waking up.\n",
      "Iteration 3 going to sleep.\n",
      "Iteration 3 waking up.\n",
      "Iteration 4 going to sleep.\n",
      "Iteration 4 waking up.\n",
      "Took 5.011980056762695 seconds\n"
     ]
    }
   ],
   "source": [
    "import time\n",
    "import multiprocessing \n",
    "start = time.time()\n",
    "for i in range(0, 5):\n",
    "    print(f\"Iteration {i} going to sleep.\")\n",
    "    # Sleep one second\n",
    "    time.sleep(1)\n",
    "    print(f\"Iteration {i} waking up.\")\n",
    "    \n",
    "end = time.time()\n",
    "\n",
    "print(f\"Took {end-start} seconds\")"
   ]
  },
  {
   "cell_type": "markdown",
   "id": "db90ba7d",
   "metadata": {},
   "source": [
    "Now, since each iteration doesn't really depend on the others, we can make them all run at the same time.  All you need to do here is define some function that performs the logic of one iteration (and accepts the index for that operation)"
   ]
  },
  {
   "cell_type": "code",
   "execution_count": 3,
   "id": "b57502ef",
   "metadata": {},
   "outputs": [],
   "source": [
    "from multiprocessing import Pool\n",
    "\n",
    "# Move the contents of your for loop outside into it's own function.  Make sure you pass everything this function\n",
    "# needs into it as an argument.\n",
    "def Foo(num):\n",
    "    print(f\"Iteration {num} going to sleep.\\r\\n\")\n",
    "    # Sleep one second\n",
    "    time.sleep(1)\n",
    "    print(f\"Iteration {num} waking up.\\r\\n\")\n",
    "    return num"
   ]
  },
  {
   "cell_type": "markdown",
   "id": "9fcffbca",
   "metadata": {},
   "source": [
    "Now here's where the magic is, we're going to use a for loop and \"kick off\" all 5 function calls at the same time, and then wait for all 5 of them to finish"
   ]
  },
  {
   "cell_type": "code",
   "execution_count": 4,
   "id": "421a830b",
   "metadata": {},
   "outputs": [
    {
     "name": "stderr",
     "output_type": "stream",
     "text": [
      "Process SpawnPoolWorker-4:\n",
      "Traceback (most recent call last):\n",
      "  File \"/Users/matt/miniconda3/envs/deshsc/lib/python3.10/multiprocessing/process.py\", line 314, in _bootstrap\n",
      "    self.run()\n",
      "  File \"/Users/matt/miniconda3/envs/deshsc/lib/python3.10/multiprocessing/process.py\", line 108, in run\n",
      "    self._target(*self._args, **self._kwargs)\n",
      "  File \"/Users/matt/miniconda3/envs/deshsc/lib/python3.10/multiprocessing/pool.py\", line 114, in worker\n",
      "    task = get()\n",
      "  File \"/Users/matt/miniconda3/envs/deshsc/lib/python3.10/multiprocessing/queues.py\", line 367, in get\n",
      "    return _ForkingPickler.loads(res)\n",
      "AttributeError: Can't get attribute 'Foo' on <module '__main__' (built-in)>\n",
      "Process SpawnPoolWorker-5:\n",
      "Traceback (most recent call last):\n",
      "  File \"/Users/matt/miniconda3/envs/deshsc/lib/python3.10/multiprocessing/process.py\", line 314, in _bootstrap\n",
      "    self.run()\n",
      "  File \"/Users/matt/miniconda3/envs/deshsc/lib/python3.10/multiprocessing/process.py\", line 108, in run\n",
      "    self._target(*self._args, **self._kwargs)\n",
      "  File \"/Users/matt/miniconda3/envs/deshsc/lib/python3.10/multiprocessing/pool.py\", line 114, in worker\n",
      "    task = get()\n",
      "  File \"/Users/matt/miniconda3/envs/deshsc/lib/python3.10/multiprocessing/queues.py\", line 367, in get\n",
      "    return _ForkingPickler.loads(res)\n",
      "AttributeError: Can't get attribute 'Foo' on <module '__main__' (built-in)>\n",
      "Process SpawnPoolWorker-2:\n",
      "Traceback (most recent call last):\n",
      "  File \"/Users/matt/miniconda3/envs/deshsc/lib/python3.10/multiprocessing/process.py\", line 314, in _bootstrap\n",
      "    self.run()\n",
      "  File \"/Users/matt/miniconda3/envs/deshsc/lib/python3.10/multiprocessing/process.py\", line 108, in run\n",
      "    self._target(*self._args, **self._kwargs)\n",
      "  File \"/Users/matt/miniconda3/envs/deshsc/lib/python3.10/multiprocessing/pool.py\", line 114, in worker\n",
      "    task = get()\n",
      "  File \"/Users/matt/miniconda3/envs/deshsc/lib/python3.10/multiprocessing/queues.py\", line 367, in get\n",
      "    return _ForkingPickler.loads(res)\n",
      "AttributeError: Can't get attribute 'Foo' on <module '__main__' (built-in)>\n",
      "Process SpawnPoolWorker-1:\n",
      "Traceback (most recent call last):\n",
      "  File \"/Users/matt/miniconda3/envs/deshsc/lib/python3.10/multiprocessing/process.py\", line 314, in _bootstrap\n",
      "    self.run()\n",
      "  File \"/Users/matt/miniconda3/envs/deshsc/lib/python3.10/multiprocessing/process.py\", line 108, in run\n",
      "    self._target(*self._args, **self._kwargs)\n",
      "  File \"/Users/matt/miniconda3/envs/deshsc/lib/python3.10/multiprocessing/pool.py\", line 114, in worker\n",
      "    task = get()\n",
      "  File \"/Users/matt/miniconda3/envs/deshsc/lib/python3.10/multiprocessing/queues.py\", line 367, in get\n",
      "    return _ForkingPickler.loads(res)\n",
      "AttributeError: Can't get attribute 'Foo' on <module '__main__' (built-in)>\n",
      "Process SpawnPoolWorker-3:\n",
      "Traceback (most recent call last):\n",
      "  File \"/Users/matt/miniconda3/envs/deshsc/lib/python3.10/multiprocessing/process.py\", line 314, in _bootstrap\n",
      "    self.run()\n",
      "  File \"/Users/matt/miniconda3/envs/deshsc/lib/python3.10/multiprocessing/process.py\", line 108, in run\n",
      "    self._target(*self._args, **self._kwargs)\n",
      "  File \"/Users/matt/miniconda3/envs/deshsc/lib/python3.10/multiprocessing/pool.py\", line 114, in worker\n",
      "    task = get()\n",
      "  File \"/Users/matt/miniconda3/envs/deshsc/lib/python3.10/multiprocessing/queues.py\", line 367, in get\n",
      "    return _ForkingPickler.loads(res)\n",
      "AttributeError: Can't get attribute 'Foo' on <module '__main__' (built-in)>\n"
     ]
    },
    {
     "ename": "KeyboardInterrupt",
     "evalue": "",
     "output_type": "error",
     "traceback": [
      "\u001b[0;31m---------------------------------------------------------------------------\u001b[0m",
      "\u001b[0;31mKeyboardInterrupt\u001b[0m                         Traceback (most recent call last)",
      "Cell \u001b[0;32mIn[4], line 24\u001b[0m\n\u001b[1;32m     20\u001b[0m     returned_values \u001b[39m=\u001b[39m []\n\u001b[1;32m     21\u001b[0m     \u001b[39mfor\u001b[39;00m task \u001b[39min\u001b[39;00m function_calls:\n\u001b[1;32m     22\u001b[0m         \u001b[39m# For each running task in our list, we call \".get()\" which tells Python to wait for it to finish and \u001b[39;00m\n\u001b[1;32m     23\u001b[0m         \u001b[39m# get it's result.\u001b[39;00m\n\u001b[0;32m---> 24\u001b[0m         returned_values\u001b[39m.\u001b[39mappend(task\u001b[39m.\u001b[39;49mget())\n\u001b[1;32m     27\u001b[0m end \u001b[39m=\u001b[39m time\u001b[39m.\u001b[39mtime()\n\u001b[1;32m     29\u001b[0m \u001b[39mprint\u001b[39m (returned_values)\n",
      "File \u001b[0;32m~/miniconda3/envs/deshsc/lib/python3.10/multiprocessing/pool.py:768\u001b[0m, in \u001b[0;36mApplyResult.get\u001b[0;34m(self, timeout)\u001b[0m\n\u001b[1;32m    767\u001b[0m \u001b[39mdef\u001b[39;00m \u001b[39mget\u001b[39m(\u001b[39mself\u001b[39m, timeout\u001b[39m=\u001b[39m\u001b[39mNone\u001b[39;00m):\n\u001b[0;32m--> 768\u001b[0m     \u001b[39mself\u001b[39;49m\u001b[39m.\u001b[39;49mwait(timeout)\n\u001b[1;32m    769\u001b[0m     \u001b[39mif\u001b[39;00m \u001b[39mnot\u001b[39;00m \u001b[39mself\u001b[39m\u001b[39m.\u001b[39mready():\n\u001b[1;32m    770\u001b[0m         \u001b[39mraise\u001b[39;00m \u001b[39mTimeoutError\u001b[39;00m\n",
      "File \u001b[0;32m~/miniconda3/envs/deshsc/lib/python3.10/multiprocessing/pool.py:765\u001b[0m, in \u001b[0;36mApplyResult.wait\u001b[0;34m(self, timeout)\u001b[0m\n\u001b[1;32m    764\u001b[0m \u001b[39mdef\u001b[39;00m \u001b[39mwait\u001b[39m(\u001b[39mself\u001b[39m, timeout\u001b[39m=\u001b[39m\u001b[39mNone\u001b[39;00m):\n\u001b[0;32m--> 765\u001b[0m     \u001b[39mself\u001b[39;49m\u001b[39m.\u001b[39;49m_event\u001b[39m.\u001b[39;49mwait(timeout)\n",
      "File \u001b[0;32m~/miniconda3/envs/deshsc/lib/python3.10/threading.py:607\u001b[0m, in \u001b[0;36mEvent.wait\u001b[0;34m(self, timeout)\u001b[0m\n\u001b[1;32m    605\u001b[0m signaled \u001b[39m=\u001b[39m \u001b[39mself\u001b[39m\u001b[39m.\u001b[39m_flag\n\u001b[1;32m    606\u001b[0m \u001b[39mif\u001b[39;00m \u001b[39mnot\u001b[39;00m signaled:\n\u001b[0;32m--> 607\u001b[0m     signaled \u001b[39m=\u001b[39m \u001b[39mself\u001b[39;49m\u001b[39m.\u001b[39;49m_cond\u001b[39m.\u001b[39;49mwait(timeout)\n\u001b[1;32m    608\u001b[0m \u001b[39mreturn\u001b[39;00m signaled\n",
      "File \u001b[0;32m~/miniconda3/envs/deshsc/lib/python3.10/threading.py:320\u001b[0m, in \u001b[0;36mCondition.wait\u001b[0;34m(self, timeout)\u001b[0m\n\u001b[1;32m    318\u001b[0m \u001b[39mtry\u001b[39;00m:    \u001b[39m# restore state no matter what (e.g., KeyboardInterrupt)\u001b[39;00m\n\u001b[1;32m    319\u001b[0m     \u001b[39mif\u001b[39;00m timeout \u001b[39mis\u001b[39;00m \u001b[39mNone\u001b[39;00m:\n\u001b[0;32m--> 320\u001b[0m         waiter\u001b[39m.\u001b[39;49macquire()\n\u001b[1;32m    321\u001b[0m         gotit \u001b[39m=\u001b[39m \u001b[39mTrue\u001b[39;00m\n\u001b[1;32m    322\u001b[0m     \u001b[39melse\u001b[39;00m:\n",
      "\u001b[0;31mKeyboardInterrupt\u001b[0m: "
     ]
    }
   ],
   "source": [
    "start = time.time()\n",
    "\n",
    "# Assign # of processes (note this can dramatically affect resources)\n",
    "# Your number of processes is limited by the number of cores in your CPU.  \n",
    "# If you want this pool to use all available cores, just don't specify any processes\n",
    "with Pool(processes=5) as pool:    \n",
    "    \n",
    "    # Create a list to hold your running tasks\n",
    "    function_calls = []\n",
    "    \n",
    "    # This is your original for loop - you're just calling your new function defined above.\n",
    "    for i in range(0, 5):\n",
    "        \n",
    "        # Start a call to Foo, and add it to your list of tasks\n",
    "        running_task = pool.apply_async(Foo, (i,))\n",
    "        \n",
    "        function_calls.append(running_task)\n",
    "      \n",
    "    \n",
    "    returned_values = []\n",
    "    for task in function_calls:\n",
    "        # For each running task in our list, we call \".get()\" which tells Python to wait for it to finish and \n",
    "        # get it's result.\n",
    "        returned_values.append(task.get())\n",
    "    \n",
    "    \n",
    "end = time.time()\n",
    "\n",
    "print (returned_values)\n",
    "print (f\"Took {end-start} seconds.\")"
   ]
  },
  {
   "cell_type": "markdown",
   "id": "d0372dab",
   "metadata": {},
   "source": [
    "And here's a way to write the cell above the \"python\" way, which uses a lot less lines of code, but they are essentially equivalent"
   ]
  },
  {
   "cell_type": "code",
   "execution_count": 5,
   "id": "db83cde8",
   "metadata": {},
   "outputs": [
    {
     "name": "stderr",
     "output_type": "stream",
     "text": [
      "Process SpawnPoolWorker-11:\n",
      "Traceback (most recent call last):\n",
      "  File \"/Users/matt/miniconda3/envs/deshsc/lib/python3.10/multiprocessing/process.py\", line 314, in _bootstrap\n",
      "    self.run()\n",
      "  File \"/Users/matt/miniconda3/envs/deshsc/lib/python3.10/multiprocessing/process.py\", line 108, in run\n",
      "    self._target(*self._args, **self._kwargs)\n",
      "  File \"/Users/matt/miniconda3/envs/deshsc/lib/python3.10/multiprocessing/pool.py\", line 114, in worker\n",
      "    task = get()\n",
      "  File \"/Users/matt/miniconda3/envs/deshsc/lib/python3.10/multiprocessing/queues.py\", line 367, in get\n",
      "    return _ForkingPickler.loads(res)\n",
      "AttributeError: Can't get attribute 'Foo' on <module '__main__' (built-in)>\n",
      "Process SpawnPoolWorker-13:\n",
      "Traceback (most recent call last):\n",
      "  File \"/Users/matt/miniconda3/envs/deshsc/lib/python3.10/multiprocessing/process.py\", line 314, in _bootstrap\n",
      "    self.run()\n",
      "  File \"/Users/matt/miniconda3/envs/deshsc/lib/python3.10/multiprocessing/process.py\", line 108, in run\n",
      "    self._target(*self._args, **self._kwargs)\n",
      "  File \"/Users/matt/miniconda3/envs/deshsc/lib/python3.10/multiprocessing/pool.py\", line 114, in worker\n",
      "    task = get()\n",
      "  File \"/Users/matt/miniconda3/envs/deshsc/lib/python3.10/multiprocessing/queues.py\", line 367, in get\n",
      "    return _ForkingPickler.loads(res)\n",
      "AttributeError: Can't get attribute 'Foo' on <module '__main__' (built-in)>\n",
      "Process SpawnPoolWorker-12:\n",
      "Traceback (most recent call last):\n",
      "  File \"/Users/matt/miniconda3/envs/deshsc/lib/python3.10/multiprocessing/process.py\", line 314, in _bootstrap\n",
      "    self.run()\n",
      "  File \"/Users/matt/miniconda3/envs/deshsc/lib/python3.10/multiprocessing/process.py\", line 108, in run\n",
      "    self._target(*self._args, **self._kwargs)\n",
      "  File \"/Users/matt/miniconda3/envs/deshsc/lib/python3.10/multiprocessing/pool.py\", line 114, in worker\n",
      "    task = get()\n",
      "  File \"/Users/matt/miniconda3/envs/deshsc/lib/python3.10/multiprocessing/queues.py\", line 367, in get\n",
      "    return _ForkingPickler.loads(res)\n",
      "AttributeError: Can't get attribute 'Foo' on <module '__main__' (built-in)>\n",
      "Process SpawnPoolWorker-14:\n",
      "Traceback (most recent call last):\n",
      "  File \"/Users/matt/miniconda3/envs/deshsc/lib/python3.10/multiprocessing/process.py\", line 314, in _bootstrap\n",
      "    self.run()\n",
      "  File \"/Users/matt/miniconda3/envs/deshsc/lib/python3.10/multiprocessing/process.py\", line 108, in run\n",
      "    self._target(*self._args, **self._kwargs)\n",
      "  File \"/Users/matt/miniconda3/envs/deshsc/lib/python3.10/multiprocessing/pool.py\", line 114, in worker\n",
      "    task = get()\n",
      "  File \"/Users/matt/miniconda3/envs/deshsc/lib/python3.10/multiprocessing/queues.py\", line 367, in get\n",
      "    return _ForkingPickler.loads(res)\n",
      "AttributeError: Can't get attribute 'Foo' on <module '__main__' (built-in)>\n",
      "Process SpawnPoolWorker-15:\n",
      "Traceback (most recent call last):\n",
      "  File \"/Users/matt/miniconda3/envs/deshsc/lib/python3.10/multiprocessing/process.py\", line 314, in _bootstrap\n",
      "    self.run()\n",
      "  File \"/Users/matt/miniconda3/envs/deshsc/lib/python3.10/multiprocessing/process.py\", line 108, in run\n",
      "    self._target(*self._args, **self._kwargs)\n",
      "  File \"/Users/matt/miniconda3/envs/deshsc/lib/python3.10/multiprocessing/pool.py\", line 114, in worker\n",
      "    task = get()\n",
      "  File \"/Users/matt/miniconda3/envs/deshsc/lib/python3.10/multiprocessing/queues.py\", line 367, in get\n",
      "    return _ForkingPickler.loads(res)\n",
      "AttributeError: Can't get attribute 'Foo' on <module '__main__' (built-in)>\n"
     ]
    },
    {
     "ename": "KeyboardInterrupt",
     "evalue": "",
     "output_type": "error",
     "traceback": [
      "\u001b[0;31m---------------------------------------------------------------------------\u001b[0m",
      "\u001b[0;31mKeyboardInterrupt\u001b[0m                         Traceback (most recent call last)",
      "Cell \u001b[0;32mIn[5], line 6\u001b[0m\n\u001b[1;32m      3\u001b[0m \u001b[39mwith\u001b[39;00m Pool(processes\u001b[39m=\u001b[39m\u001b[39m5\u001b[39m) \u001b[39mas\u001b[39;00m pool:    \n\u001b[1;32m      5\u001b[0m     function_calls \u001b[39m=\u001b[39m [pool\u001b[39m.\u001b[39mapply_async(Foo, (i,)) \u001b[39mfor\u001b[39;00m i \u001b[39min\u001b[39;00m \u001b[39mrange\u001b[39m(\u001b[39m0\u001b[39m, \u001b[39m5\u001b[39m)]    \n\u001b[0;32m----> 6\u001b[0m     returned_values \u001b[39m=\u001b[39m [function_call\u001b[39m.\u001b[39mget() \u001b[39mfor\u001b[39;00m function_call \u001b[39min\u001b[39;00m function_calls]\n\u001b[1;32m      8\u001b[0m end \u001b[39m=\u001b[39m time\u001b[39m.\u001b[39mtime()\n\u001b[1;32m     10\u001b[0m \u001b[39mprint\u001b[39m (returned_values)\n",
      "Cell \u001b[0;32mIn[5], line 6\u001b[0m, in \u001b[0;36m<listcomp>\u001b[0;34m(.0)\u001b[0m\n\u001b[1;32m      3\u001b[0m \u001b[39mwith\u001b[39;00m Pool(processes\u001b[39m=\u001b[39m\u001b[39m5\u001b[39m) \u001b[39mas\u001b[39;00m pool:    \n\u001b[1;32m      5\u001b[0m     function_calls \u001b[39m=\u001b[39m [pool\u001b[39m.\u001b[39mapply_async(Foo, (i,)) \u001b[39mfor\u001b[39;00m i \u001b[39min\u001b[39;00m \u001b[39mrange\u001b[39m(\u001b[39m0\u001b[39m, \u001b[39m5\u001b[39m)]    \n\u001b[0;32m----> 6\u001b[0m     returned_values \u001b[39m=\u001b[39m [function_call\u001b[39m.\u001b[39;49mget() \u001b[39mfor\u001b[39;00m function_call \u001b[39min\u001b[39;00m function_calls]\n\u001b[1;32m      8\u001b[0m end \u001b[39m=\u001b[39m time\u001b[39m.\u001b[39mtime()\n\u001b[1;32m     10\u001b[0m \u001b[39mprint\u001b[39m (returned_values)\n",
      "File \u001b[0;32m~/miniconda3/envs/deshsc/lib/python3.10/multiprocessing/pool.py:768\u001b[0m, in \u001b[0;36mApplyResult.get\u001b[0;34m(self, timeout)\u001b[0m\n\u001b[1;32m    767\u001b[0m \u001b[39mdef\u001b[39;00m \u001b[39mget\u001b[39m(\u001b[39mself\u001b[39m, timeout\u001b[39m=\u001b[39m\u001b[39mNone\u001b[39;00m):\n\u001b[0;32m--> 768\u001b[0m     \u001b[39mself\u001b[39;49m\u001b[39m.\u001b[39;49mwait(timeout)\n\u001b[1;32m    769\u001b[0m     \u001b[39mif\u001b[39;00m \u001b[39mnot\u001b[39;00m \u001b[39mself\u001b[39m\u001b[39m.\u001b[39mready():\n\u001b[1;32m    770\u001b[0m         \u001b[39mraise\u001b[39;00m \u001b[39mTimeoutError\u001b[39;00m\n",
      "File \u001b[0;32m~/miniconda3/envs/deshsc/lib/python3.10/multiprocessing/pool.py:765\u001b[0m, in \u001b[0;36mApplyResult.wait\u001b[0;34m(self, timeout)\u001b[0m\n\u001b[1;32m    764\u001b[0m \u001b[39mdef\u001b[39;00m \u001b[39mwait\u001b[39m(\u001b[39mself\u001b[39m, timeout\u001b[39m=\u001b[39m\u001b[39mNone\u001b[39;00m):\n\u001b[0;32m--> 765\u001b[0m     \u001b[39mself\u001b[39;49m\u001b[39m.\u001b[39;49m_event\u001b[39m.\u001b[39;49mwait(timeout)\n",
      "File \u001b[0;32m~/miniconda3/envs/deshsc/lib/python3.10/threading.py:607\u001b[0m, in \u001b[0;36mEvent.wait\u001b[0;34m(self, timeout)\u001b[0m\n\u001b[1;32m    605\u001b[0m signaled \u001b[39m=\u001b[39m \u001b[39mself\u001b[39m\u001b[39m.\u001b[39m_flag\n\u001b[1;32m    606\u001b[0m \u001b[39mif\u001b[39;00m \u001b[39mnot\u001b[39;00m signaled:\n\u001b[0;32m--> 607\u001b[0m     signaled \u001b[39m=\u001b[39m \u001b[39mself\u001b[39;49m\u001b[39m.\u001b[39;49m_cond\u001b[39m.\u001b[39;49mwait(timeout)\n\u001b[1;32m    608\u001b[0m \u001b[39mreturn\u001b[39;00m signaled\n",
      "File \u001b[0;32m~/miniconda3/envs/deshsc/lib/python3.10/threading.py:320\u001b[0m, in \u001b[0;36mCondition.wait\u001b[0;34m(self, timeout)\u001b[0m\n\u001b[1;32m    318\u001b[0m \u001b[39mtry\u001b[39;00m:    \u001b[39m# restore state no matter what (e.g., KeyboardInterrupt)\u001b[39;00m\n\u001b[1;32m    319\u001b[0m     \u001b[39mif\u001b[39;00m timeout \u001b[39mis\u001b[39;00m \u001b[39mNone\u001b[39;00m:\n\u001b[0;32m--> 320\u001b[0m         waiter\u001b[39m.\u001b[39;49macquire()\n\u001b[1;32m    321\u001b[0m         gotit \u001b[39m=\u001b[39m \u001b[39mTrue\u001b[39;00m\n\u001b[1;32m    322\u001b[0m     \u001b[39melse\u001b[39;00m:\n",
      "\u001b[0;31mKeyboardInterrupt\u001b[0m: "
     ]
    }
   ],
   "source": [
    "start = time.time()\n",
    "\n",
    "with Pool(processes=5) as pool:    \n",
    "    \n",
    "    function_calls = [pool.apply_async(Foo, (i,)) for i in range(0, 5)]    \n",
    "    returned_values = [function_call.get() for function_call in function_calls]\n",
    "\n",
    "end = time.time()\n",
    "\n",
    "print (returned_values)\n",
    "print (f\"Took {end-start} seconds.\")"
   ]
  },
  {
   "cell_type": "code",
   "execution_count": 5,
   "id": "af3e7dd8",
   "metadata": {},
   "outputs": [
    {
     "name": "stdout",
     "output_type": "stream",
     "text": [
      "Iteration 0 going to sleep.\n",
      "Iteration 0 waking up.\n",
      "Iteration 1 going to sleep.\n",
      "Iteration 1 waking up.\n",
      "Iteration 2 going to sleep.\n",
      "Iteration 2 waking up.\n",
      "Iteration 3 going to sleep.\n",
      "Iteration 3 waking up.\n",
      "Iteration 4 going to sleep.\n",
      "Iteration 4 waking up.\n",
      "Took 5.007646799087524 seconds\n",
      "Iteration 3 going to sleep.\n",
      "Iteration 2 going to sleep.\n",
      "Iteration 0 going to sleep.\n",
      "Iteration 1 going to sleep.\n",
      "Iteration 4 going to sleep.\n",
      "\n",
      "\n",
      "\n",
      "\n",
      "\n",
      "Iteration 0 waking up.\n",
      "Iteration 1 waking up.\n",
      "Iteration 3 waking up.\n",
      "Iteration 4 waking up.\n",
      "Iteration 2 waking up.\n",
      "\n",
      "\n",
      "\n",
      "\n",
      "\n",
      "[0, 1, 2, 3, 4]\n",
      "Took 1.0612730979919434 seconds.\n"
     ]
    }
   ],
   "source": [
    "import time\n",
    "\n",
    "start = time.time()\n",
    "for i in range(0, 5):\n",
    "    print(f\"Iteration {i} going to sleep.\")\n",
    "    # Sleep one second\n",
    "    time.sleep(1)\n",
    "    print(f\"Iteration {i} waking up.\")\n",
    "    \n",
    "end = time.time()\n",
    "\n",
    "print(f\"Took {end-start} seconds\")\n",
    "\n",
    "\n",
    "from multiprocess import Pool\n",
    "\n",
    "# Move the contents of your for loop outside into it's own function.  Make sure you pass everything this function\n",
    "# needs into it as an argument.\n",
    "def Foo(num):\n",
    "    print(f\"Iteration {num} going to sleep.\\r\\n\")\n",
    "    # Sleep one second\n",
    "    time.sleep(1)\n",
    "    print(f\"Iteration {num} waking up.\\r\\n\")\n",
    "    return num\n",
    "\n",
    "\n",
    "start = time.time()\n",
    "\n",
    "# Assign # of processes (note this can dramatically affect resources)\n",
    "# Your number of processes is limited by the number of cores in your CPU.  \n",
    "# If you want this pool to use all available cores, just don't specify any processes\n",
    "with Pool(processes=5) as pool:    \n",
    "    \n",
    "    # Create a list to hold your running tasks\n",
    "    function_calls = []\n",
    "    \n",
    "    # This is your original for loop - you're just calling your new function defined above.\n",
    "    for i in range(0, 5):\n",
    "        \n",
    "        # Start a call to Foo, and add it to your list of tasks\n",
    "        running_task = pool.apply_async(Foo, (i,))\n",
    "        \n",
    "        function_calls.append(running_task)\n",
    "      \n",
    "    \n",
    "    returned_values = []\n",
    "    for task in function_calls:\n",
    "        # For each running task in our list, we call \".get()\" which tells Python to wait for it to finish and \n",
    "        # get it's result.\n",
    "        returned_values.append(task.get())\n",
    "    \n",
    "    \n",
    "end = time.time()\n",
    "\n",
    "print (returned_values)\n",
    "print (f\"Took {end-start} seconds.\")"
   ]
  }
 ],
 "metadata": {
  "interpreter": {
   "hash": "e97479cd00aab413b4f308c7754ba0fc49127c7ef5f4318727f190c9500ecdd5"
  },
  "kernelspec": {
   "display_name": "Python 3 (ipykernel)",
   "language": "python",
   "name": "python3"
  },
  "language_info": {
   "codemirror_mode": {
    "name": "ipython",
    "version": 3
   },
   "file_extension": ".py",
   "mimetype": "text/x-python",
   "name": "python",
   "nbconvert_exporter": "python",
   "pygments_lexer": "ipython3",
   "version": "3.10.9"
  }
 },
 "nbformat": 4,
 "nbformat_minor": 5
}
